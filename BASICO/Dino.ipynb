{
 "cells": [
  {
   "cell_type": "code",
   "execution_count": 25,
   "metadata": {},
   "outputs": [],
   "source": [
    "import pygame\n",
    "from pygame.sprite import Sprite\n",
    "from sys import exit\n",
    "from pygame.locals import *\n",
    "from random import randrange"
   ]
  },
  {
   "cell_type": "code",
   "execution_count": 26,
   "metadata": {},
   "outputs": [],
   "source": [
    "LARGURA = 640\n",
    "ALTURA = 480\n",
    "CAMINHO = '/home/gregorio/Documentos/PROJETOS/APRENDIZADO/PYGAME/pygame/BASICO/resources/dino.png'\n",
    "\n",
    "BRANCO = (255, 255, 255)"
   ]
  },
  {
   "cell_type": "code",
   "execution_count": 27,
   "metadata": {},
   "outputs": [],
   "source": [
    "pygame.init()\n",
    "jump = pygame.mixer.Sound('/home/gregorio/Documentos/PROJETOS/APRENDIZADO/PYGAME/pygame/BASICO/resources/smw_1-up.wav')\n",
    "tela = pygame.display.set_mode((LARGURA, ALTURA))\n",
    "pygame.display.set_caption(\"DINO\")\n",
    "sprites_sheet = pygame.image.load(CAMINHO).convert_alpha()"
   ]
  },
  {
   "cell_type": "code",
   "execution_count": 28,
   "metadata": {},
   "outputs": [],
   "source": [
    "class Dino(Sprite):\n",
    "    def __init__(self):\n",
    "        super().__init__()\n",
    "        self.imagens_dinossauro = []\n",
    "        for i in range(3):\n",
    "            img = sprites_sheet.subsurface((i*32,0), (32,32))\n",
    "            img = pygame.transform.scale(img, (32*3, 32*3))\n",
    "            self.imagens_dinossauro.append(img)\n",
    "            \n",
    "        self.index = 0\n",
    "        self.velocidade = 10\n",
    "        self.image = self.imagens_dinossauro[self.index]\n",
    "        self.rect = self.image.get_rect()\n",
    "        self.posicao_y_inicial = ALTURA - 64 - 96 / 2\n",
    "        self.rect.center = (100, ALTURA - 64)\n",
    "        self.velocidade_pulo = 20\n",
    "        self.pulo = False\n",
    "        self.som_pulo = jump\n",
    "        self.som_pulo.set_volume(1)\n",
    "        \n",
    "    def pular(self):\n",
    "        self.som_pulo.play()\n",
    "        self.pulo = True\n",
    "            \n",
    "    \n",
    "    def update(self):\n",
    "        self.index = 0 if self.index > 2 else self.index + .25\n",
    "        self.image = self.imagens_dinossauro[int(self.index)]\n",
    "        \n",
    "        if self.pulo:\n",
    "            if self.rect.y <= 200:\n",
    "                self.pulo = False\n",
    "            self.rect.y -= self.velocidade_pulo\n",
    "        else:\n",
    "            if self.rect.y < self.posicao_y_inicial:\n",
    "                self.rect.y += self.velocidade_pulo\n",
    "            else:\n",
    "                self.rect.y = self.posicao_y_inicial\n",
    "        \n",
    "class Nuven(Sprite):\n",
    "    def __init__(self):\n",
    "        super().__init__()\n",
    "        self.image = sprites_sheet.subsurface((7 * 32, 0), (32, 32))\n",
    "        self.image = pygame.transform.scale(self.image, (32 * 3, 32 * 3))\n",
    "        self.rect = self.image.get_rect()\n",
    "        self.rect.center = (randrange(0, 100, 50), randrange(0, 100, 50))\n",
    "        self.velocidade = randrange(1, 10)\n",
    "        \n",
    "    def update(self):\n",
    "         if self.rect.topright[0] < 0:\n",
    "            self.rect.y = randrange(0, 100, 50)\n",
    "            self.rect.x = LARGURA\n",
    "         self.rect.x = self.rect.x - self.velocidade\n",
    "\n",
    "class Chao(Sprite):\n",
    "    def __init__(self, pos_chao):\n",
    "        super().__init__()\n",
    "        self.image = sprites_sheet.subsurface((6 * 32, 0), (32, 32))\n",
    "        self.image = pygame.transform.scale(self.image, (32 * 2, 32 * 2))\n",
    "        self.rect = self.image.get_rect()\n",
    "        self.rect.y = ALTURA - 64\n",
    "        self.rect.x = pos_chao * 64\n",
    "        \n",
    "    def update(self):\n",
    "        if self.rect.topright[0] < 0:\n",
    "            self.rect.x = LARGURA\n",
    "        self.rect.x -= 10"
   ]
  },
  {
   "cell_type": "code",
   "execution_count": 29,
   "metadata": {},
   "outputs": [],
   "source": [
    "todas_sprites = pygame.sprite.Group()\n",
    "dino = Dino()\n",
    "todas_sprites.add(dino)"
   ]
  },
  {
   "cell_type": "code",
   "execution_count": 30,
   "metadata": {},
   "outputs": [],
   "source": [
    "for _ in range(4):\n",
    "    todas_sprites.add(Nuven())"
   ]
  },
  {
   "cell_type": "code",
   "execution_count": 31,
   "metadata": {},
   "outputs": [],
   "source": [
    "for i in range(64):\n",
    "    todas_sprites.add(Chao(i))"
   ]
  },
  {
   "cell_type": "code",
   "execution_count": 32,
   "metadata": {},
   "outputs": [
    {
     "ename": "SystemExit",
     "evalue": "",
     "output_type": "error",
     "traceback": [
      "An exception has occurred, use %tb to see the full traceback.\n",
      "\u001b[0;31mSystemExit\u001b[0m\n"
     ]
    },
    {
     "name": "stderr",
     "output_type": "stream",
     "text": [
      "/home/gregorio/.virtualenvs/pygame/lib/python3.9/site-packages/IPython/core/interactiveshell.py:3452: UserWarning: To exit: use 'exit', 'quit', or Ctrl-D.\n",
      "  warn(\"To exit: use 'exit', 'quit', or Ctrl-D.\", stacklevel=1)\n"
     ]
    }
   ],
   "source": [
    "relogio = pygame.time.Clock()\n",
    "while True:\n",
    "    relogio.tick(30)\n",
    "    tela.fill(BRANCO)\n",
    "    \n",
    "    for ev in pygame.event.get():\n",
    "        if ev.type == QUIT:\n",
    "            pygame.quit()\n",
    "            exit()\n",
    "            \n",
    "        if ev.type == KEYDOWN:\n",
    "            if dino.rect.y != dino.posicao_y_inicial:\n",
    "                pass\n",
    "            elif ev.key == K_SPACE:\n",
    "                dino.pular()\n",
    "    todas_sprites.draw(tela)\n",
    "    todas_sprites.update()\n",
    "    \n",
    "    pygame.display.flip()"
   ]
  }
 ],
 "metadata": {
  "interpreter": {
   "hash": "84127f00867c89f50f040b4237f5babc55f36d7cedffdbe7e1439ff0c54507cf"
  },
  "kernelspec": {
   "display_name": "Python 3.9.5 64-bit ('pygame': virtualenv)",
   "name": "python3"
  },
  "language_info": {
   "codemirror_mode": {
    "name": "ipython",
    "version": 3
   },
   "file_extension": ".py",
   "mimetype": "text/x-python",
   "name": "python",
   "nbconvert_exporter": "python",
   "pygments_lexer": "ipython3",
   "version": "3.9.5"
  },
  "orig_nbformat": 4
 },
 "nbformat": 4,
 "nbformat_minor": 2
}
