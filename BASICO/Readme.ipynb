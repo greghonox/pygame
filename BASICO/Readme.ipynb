{
 "cells": [
  {
   "cell_type": "code",
   "execution_count": 11,
   "metadata": {},
   "outputs": [],
   "source": [
    "import pygame\n",
    "from pygame.locals import *\n",
    "from sys import exit"
   ]
  },
  {
   "cell_type": "code",
   "execution_count": 12,
   "metadata": {},
   "outputs": [],
   "source": [
    "ALTURA = 640\n",
    "LARGURA = 480"
   ]
  },
  {
   "cell_type": "markdown",
   "metadata": {},
   "source": [
    "## TODO JOGO PRECISA DA FUNCAO pygame.init() PARA DAR INICIO NO JOGO"
   ]
  },
  {
   "cell_type": "code",
   "execution_count": 13,
   "metadata": {},
   "outputs": [],
   "source": [
    "pygame.init()\n",
    "tela = pygame.display.set_mode((ALTURA, LARGURA))\n",
    "# ALTERANDO O NOME DO TITLE\n",
    "pygame.display.set_caption(\"Meu primeiro jogo\")"
   ]
  },
  {
   "cell_type": "markdown",
   "metadata": {},
   "source": [
    "## PARA DESENHAR NA TELA:\n",
    "### USA SE A FUNCAO `pygame.draw`\n",
    "### COM A FUNCAO DE DESENHA VOCE PODE ESCOLHER:\n",
    "#### 1 - `pygame.draw.rect`\n",
    "#### 2 - `pygame.draw.circle`\n",
    "### ELA ESPERA O SEGUINTES ARGUMENTOS:\n",
    "#### `pygame.draw.rect(tela_desejada, (cor_rg), (posicao_x, posicao_y, comprimento_pixel, altura_pixel))`\n",
    "#### `pygame.draw.circle(tela_desejada, (cor_rg), (posicao_x, posicao_y), raio)`\n",
    "#### `pygame.draw.line(tela_desejada, (cor_rg), (posicao_x_inicio, posicao_y_inicio), (posicao_x,fim, posicao_y_fim), espessura)`\n",
    "### LEMBRANDO QUE AS POSICOES X, Y COMECA NA ESQUERDA ACIMA"
   ]
  },
  {
   "cell_type": "code",
   "execution_count": 14,
   "metadata": {},
   "outputs": [],
   "source": [
    "# CRIA UM RETANGULO NA TELA\n",
    "def retangulo(tela):\n",
    "    pygame.draw.rect(tela, (255, 0, 0), (200, 300, 40, 50))\n",
    "\n",
    "def circulo(tela):\n",
    "    pygame.draw.circle(tela, (255, 255, 0), (ALTURA/2, LARGURA/2), 40)\n",
    "\n",
    "def linha(tela):\n",
    "    pygame.draw.line(tela, (0, 0, 255), (0, 0), (ALTURA, LARGURA), 5)"
   ]
  },
  {
   "cell_type": "markdown",
   "metadata": {},
   "source": [
    "## ALEM DISSO É NECESSARIO TER UM LACO PRINCIPAL DE `EVENTO`\n",
    "## A FUNCAO `pygame.event.get()` REALIZA A CAPTURA DOS EVENTOS"
   ]
  },
  {
   "cell_type": "code",
   "execution_count": 15,
   "metadata": {},
   "outputs": [
    {
     "ename": "SystemExit",
     "evalue": "",
     "output_type": "error",
     "traceback": [
      "An exception has occurred, use %tb to see the full traceback.\n",
      "\u001b[0;31mSystemExit\u001b[0m\n"
     ]
    },
    {
     "name": "stderr",
     "output_type": "stream",
     "text": [
      "/home/gregorio/.virtualenvs/pygame/lib/python3.9/site-packages/IPython/core/interactiveshell.py:3452: UserWarning: To exit: use 'exit', 'quit', or Ctrl-D.\n",
      "  warn(\"To exit: use 'exit', 'quit', or Ctrl-D.\", stacklevel=1)\n"
     ]
    }
   ],
   "source": [
    "# LOOP PRINCIPAL\n",
    "while True:\n",
    "    for event in pygame.event.get():\n",
    "        if event.type == QUIT:\n",
    "            pygame.quit()\n",
    "            exit()\n",
    "    # ATUALIZA A TELA DO JOGO\n",
    "    retangulo(tela)\n",
    "    circulo(tela)\n",
    "    linha(tela)\n",
    "    pygame.display.update()"
   ]
  }
 ],
 "metadata": {
  "interpreter": {
   "hash": "84127f00867c89f50f040b4237f5babc55f36d7cedffdbe7e1439ff0c54507cf"
  },
  "kernelspec": {
   "display_name": "Python 3.9.5 64-bit ('pygame': virtualenv)",
   "name": "python3"
  },
  "language_info": {
   "codemirror_mode": {
    "name": "ipython",
    "version": 3
   },
   "file_extension": ".py",
   "mimetype": "text/x-python",
   "name": "python",
   "nbconvert_exporter": "python",
   "pygments_lexer": "ipython3",
   "version": "3.9.5"
  },
  "orig_nbformat": 4
 },
 "nbformat": 4,
 "nbformat_minor": 2
}
