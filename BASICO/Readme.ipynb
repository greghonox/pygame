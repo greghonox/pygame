{
 "cells": [
  {
   "cell_type": "code",
   "execution_count": 1,
   "metadata": {},
   "outputs": [
    {
     "name": "stdout",
     "output_type": "stream",
     "text": [
      "pygame 2.0.2 (SDL 2.0.16, Python 3.9.5)\n",
      "Hello from the pygame community. https://www.pygame.org/contribute.html\n"
     ]
    }
   ],
   "source": [
    "import pygame\n",
    "from pygame.locals import *\n",
    "from sys import exit\n",
    "from random import choice, randint\n",
    "from time import sleep"
   ]
  },
  {
   "cell_type": "code",
   "execution_count": 2,
   "metadata": {},
   "outputs": [],
   "source": [
    "ALTURA = 640\n",
    "LARGURA = 480"
   ]
  },
  {
   "cell_type": "markdown",
   "metadata": {},
   "source": [
    "## TODO JOGO PRECISA DA FUNCAO pygame.init() PARA DAR INICIO NO JOGO"
   ]
  },
  {
   "cell_type": "code",
   "execution_count": 3,
   "metadata": {},
   "outputs": [],
   "source": [
    "pygame.init()\n",
    "tela = pygame.display.set_mode((ALTURA, LARGURA))\n",
    "# ALTERANDO O NOME DO TITLE\n",
    "pygame.display.set_caption(\"Meu primeiro jogo\")"
   ]
  },
  {
   "cell_type": "markdown",
   "metadata": {},
   "source": [
    "# MUSICA DE FUNDO\n",
    "## A INSTRUCAO ABAIXO ADICIONA A MUSICA DE FUNDO DO JOGO\n",
    "## A MUSICA DEVE INICIAR DEPOIS DO pygame.init()\n",
    "## DA PARA ALTERAR O VOLUME COM A FUNCAO `pygame.mixer.music.set_volume(valor)`\n",
    "## CASO DESEJA ALTERAR O VOLUME DOS SONS DE EFEITO `barulho_colisao.set_volume(valor)`\n",
    "## OS `valor` DO SOM DEVE SER UM FLOAT ATE 1"
   ]
  },
  {
   "cell_type": "code",
   "execution_count": 4,
   "metadata": {},
   "outputs": [],
   "source": [
    "pygame.mixer.music.set_volume(.1)\n",
    "musica_fundo = pygame.mixer.music.load('/home/gregorio/Documentos/PROJETOS/APRENDIZADO/PYGAME/pygame/BASICO/resources/BoxCat Games - Mt Fox Shop.mp3')\n",
    "barulho_colisao = pygame.mixer.Sound('/home/gregorio/Documentos/PROJETOS/APRENDIZADO/PYGAME/pygame/BASICO/resources/smw_1-up.wav')\n",
    "pygame.mixer.music.play(-1)"
   ]
  },
  {
   "cell_type": "markdown",
   "metadata": {},
   "source": [
    "## PARA DESENHAR NA TELA:\n",
    "### USA SE A FUNCAO `pygame.draw`\n",
    "### COM A FUNCAO DE DESENHA VOCE PODE ESCOLHER:\n",
    "#### 1 - `pygame.draw.rect`\n",
    "#### 2 - `pygame.draw.circle`\n",
    "### ELA ESPERA O SEGUINTES ARGUMENTOS:\n",
    "#### `pygame.draw.rect(tela_desejada, (cor_rg), (posicao_x, posicao_y, comprimento_pixel, altura_pixel))`\n",
    "#### `pygame.draw.circle(tela_desejada, (cor_rg), (posicao_x, posicao_y), raio)`\n",
    "#### `pygame.draw.line(tela_desejada, (cor_rg), (posicao_x_inicio, posicao_y_inicio), (posicao_x,fim, posicao_y_fim), espessura)`\n",
    "### LEMBRANDO QUE AS POSICOES X, Y COMECA NA ESQUERDA ACIMA"
   ]
  },
  {
   "cell_type": "code",
   "execution_count": 5,
   "metadata": {},
   "outputs": [],
   "source": [
    "# CRIA UM RETANGULO NA TELA\n",
    "def retangulo(tela):\n",
    "    return pygame.draw.rect(tela, (255, 0, 0), (200, 300, 40, 50))\n",
    "\n",
    "def circulo(tela):\n",
    "    return pygame.draw.circle(tela, (255, 255, 0), (ALTURA/2, LARGURA/2), 40)\n",
    "\n",
    "def linha(tela):\n",
    "    return pygame.draw.line(tela, (0, 0, 255), (0, 0), (ALTURA, LARGURA), 5)\n",
    "\n",
    "def circulo_move(tela, x, y):\n",
    "    return pygame.draw.rect(tela, (255, 0, 0), (x, y, 40, 40))\n",
    "\n",
    "def circulo_eu(tela, x, y):\n",
    "    return pygame.draw.rect(tela, (255, 255, 0), (x, y, 10, 10))    "
   ]
  },
  {
   "cell_type": "markdown",
   "metadata": {},
   "source": [
    "# ADICIONANDO TEXTO NA TELA\n",
    "## A INSTRUCAO `pygame.font.SysFont` ADICIONA UMA FONTE NA TELA\n",
    "## SEUS ARGUMENTOS SÃO: `pygame.font.SysFont(fonte_nome, tamanho, negrito, italico)`\n",
    "## PARA RENDERIZAR:\n",
    "## 1 - ADICIONIA A SEGUINTE INSTROCAO: \n",
    "    texto_formatado = fonte.render(mensagem_texto, Se vai ser cerrilhado, (cor_rgb))\n",
    "    tela.blit(texto_formatado, (posicao_x, posicao_y))"
   ]
  },
  {
   "cell_type": "code",
   "execution_count": 6,
   "metadata": {},
   "outputs": [],
   "source": [
    "fonte = pygame.font.SysFont('Arial', 20, True, True)"
   ]
  },
  {
   "cell_type": "code",
   "execution_count": 7,
   "metadata": {},
   "outputs": [],
   "source": [
    "msg = lambda x: tela.blit(fonte.render(x, True, (255, 255, 255)), (0, 20))"
   ]
  },
  {
   "cell_type": "code",
   "execution_count": 8,
   "metadata": {},
   "outputs": [],
   "source": [
    "def gerar_cobra(tela, lista_cobra):\n",
    "    for XeY in lista_cobra:\n",
    "        pygame.draw.rect(tela, (0, 255, 0) , (XeY[0], XeY[1], 40, 40))"
   ]
  },
  {
   "cell_type": "code",
   "execution_count": 9,
   "metadata": {},
   "outputs": [],
   "source": [
    "def reiniciar_jogo():\n",
    "    global pontos, velocidade, controle, bot, eu, lista_corpo, morreu\n",
    "    pontos = 0\n",
    "    velocidade = 10\n",
    "    controle = {'x': velocidade, 'y': 0}\n",
    "    bot['x'], bot['y'] = 300, 300\n",
    "    eu['x'], eu['y'] = int(LARGURA / 2), int(ALTURA / 2)\n",
    "    lista_corpo = []\n",
    "    morreu = False"
   ]
  },
  {
   "cell_type": "code",
   "execution_count": 10,
   "metadata": {},
   "outputs": [],
   "source": [
    "PASSOS = 5\n",
    "def gera_movimento_x_y(x, y):\n",
    "    caminhos = (-PASSOS, +PASSOS)\n",
    "    tx = choice(caminhos)\n",
    "    ty = choice(caminhos)\n",
    "    if (x + tx) >= ALTURA:\n",
    "        tx = int(x - tx)\n",
    "    else:\n",
    "        tx = x + tx\n",
    "        \n",
    "    if (y + ty) >= LARGURA:\n",
    "        ty = int(y - ty)\n",
    "    else:\n",
    "        ty = y + ty\n",
    "    msg(f\"{tx}, {ty}\")\n",
    "    # sleep(1)\n",
    "    return tx if tx > 0 else tx + PASSOS, ty if ty > 0 else ty + PASSOS"
   ]
  },
  {
   "cell_type": "markdown",
   "metadata": {},
   "source": [
    "## ALEM DISSO É NECESSARIO TER UM LACO PRINCIPAL DE `EVENTO`\n",
    "## A FUNCAO `pygame.event.get()` REALIZA A CAPTURA DOS EVENTOS\n",
    "## A FUNCAO `tela.fill` REALIZA LIMPEZA DA TELA, EVITANDO QUE TENHA MOVIMENTO ANTERIORES\n",
    "## A FUNCAO `pygame.time.Clock()` CRIA UM OBJETO DE ATUALIZAÇÃO. PARA SETAR A ATUALIZAÇÃO: `tick(tempo)`"
   ]
  },
  {
   "cell_type": "code",
   "execution_count": 11,
   "metadata": {},
   "outputs": [
    {
     "ename": "SystemExit",
     "evalue": "",
     "output_type": "error",
     "traceback": [
      "An exception has occurred, use %tb to see the full traceback.\n",
      "\u001b[0;31mSystemExit\u001b[0m\n"
     ]
    },
    {
     "name": "stderr",
     "output_type": "stream",
     "text": [
      "/home/gregorio/.virtualenvs/pygame/lib/python3.9/site-packages/IPython/core/interactiveshell.py:3452: UserWarning: To exit: use 'exit', 'quit', or Ctrl-D.\n",
      "  warn(\"To exit: use 'exit', 'quit', or Ctrl-D.\", stacklevel=1)\n"
     ]
    }
   ],
   "source": [
    "# LOOP PRINCIPAL\n",
    "eu = {}\n",
    "bot = {}\n",
    "velocidade = 10\n",
    "controle = {'x': velocidade, 'y': 0}\n",
    "bot['x'], bot['y'] = 300, 300\n",
    "eu['x'], eu['y'] = int(LARGURA / 2), int(ALTURA / 2)\n",
    "\n",
    "relogio = pygame.time.Clock()\n",
    "pontos = 0\n",
    "lista_corpo = []\n",
    "TAMANHO_COBRA_INICIAL = 10\n",
    "\n",
    "while True:\n",
    "    tela.fill((0, 0, 0))\n",
    "    relogio.tick(30)\n",
    "    for event in pygame.event.get():\n",
    "        if event.type == QUIT:\n",
    "            pygame.quit()\n",
    "            exit()\n",
    "        # ADICIONANDO MEUS MOVIMENTOS PELO TECLADO\n",
    "        # ISSO PEGA TECLA QUE SÃO PRESSIONADA MAS NAO SEGURADAS\n",
    "        if event.type == KEYDOWN:\n",
    "            if event.key == K_w:\n",
    "                if controle['y'] == +velocidade: # PERCEBA QUE ESSA VERIFICACAO É A CONDICAO CONTRARIA DE: K_s\n",
    "                    pass\n",
    "                else:\n",
    "                    controle['y'] = -velocidade\n",
    "                    controle['x'] = 0\n",
    "            if event.key == K_s:\n",
    "                if controle['y'] == -velocidade: # PERCEBA QUE ESSA VERIFICACAO É A CONDICAO CONTRARIA DE: K_w\n",
    "                    pass\n",
    "                else:\n",
    "                    controle['y'] = +velocidade\n",
    "                    controle['x'] = 0\n",
    "            if event.key == K_a:\n",
    "                if controle['x'] == +velocidade: # PERCEBA QUE ESSA VERIFICACAO É A CONDICAO CONTRARIA DE: K_d\n",
    "                    pass\n",
    "                else:\n",
    "                    controle['x'] = -velocidade\n",
    "                    controle['y'] = 0\n",
    "            if event.key == K_d:\n",
    "                if controle['x'] == -velocidade: # PERCEBA QUE ESSA VERIFICACAO É A CONDICAO CONTRARIA DE: K_a\n",
    "                    pass\n",
    "                else:\n",
    "                    controle['x'] = +velocidade\n",
    "                    controle['y'] = 0\n",
    "    eu['x'] = eu['x'] + controle['x']\n",
    "    eu['y'] = eu['y'] + controle['y']\n",
    "        \n",
    "    # ADICIONANDO TEXTO\n",
    "    mensagem = f\"PONTOS {pontos}\"\n",
    "    texto_formatado = fonte.render(mensagem, False, (255, 0, 0))\n",
    "    tela.blit(texto_formatado, (0, 0))    \n",
    "    # ADICIONA ESCUTA DE TECLAS PRESSIONADAS \n",
    "    '''\n",
    "    if pygame.key.get_pressed()[K_w]:\n",
    "        eu['y'] -= PASSOS\n",
    "    if pygame.key.get_pressed()[K_s]:\n",
    "        eu['y'] += PASSOS\n",
    "    if pygame.key.get_pressed()[K_a]:\n",
    "        eu['x'] -= PASSOS\n",
    "    if pygame.key.get_pressed()[K_d]:\n",
    "        eu['x'] += PASSOS        \n",
    "    '''\n",
    "    # ATUALIZA A TELA DO JOGO\n",
    "    bot['x'], bot['y'] = gera_movimento_x_y(bot['x'], bot['y'])\n",
    "    bo_b = circulo_move(tela, bot['x'], bot['y'])\n",
    "    eu_b = circulo_eu(tela, eu['x'], eu['y'])\n",
    "    \n",
    "    lista_cabeca = []    \n",
    "    lista_cabeca.append(eu['x'])\n",
    "    lista_cabeca.append(eu['y'])\n",
    "    lista_corpo.append(lista_cabeca)\n",
    "    gerar_cobra(tela, lista_corpo)\n",
    "    \n",
    "    # SE A COBRA ENCOSTAR NO PROPRIO CORPO ELA DEVE MORRER\n",
    "    if lista_corpo.count(lista_cabeca) > 1:\n",
    "        morreu = True\n",
    "        go = pygame.font.SysFont('arial', 20, True, True)\n",
    "        mensagem = go.render(\"Game Over, Pressione R para iniciar\", True, (0, 0, 0))\n",
    "        mensagem_rect = mensagem.get_rect() # PEGA O RETANGULO DA MENSAGEM\n",
    "        mensagem_rect.center = int(LARGURA/2), int(ALTURA/2)\n",
    "        tela.fill((255, 255, 255))            \n",
    "\n",
    "        while morreu:\n",
    "            for event in pygame.event.get():\n",
    "                if event.type == KEYDOWN:\n",
    "                    if event.key == K_r:\n",
    "                        reiniciar_jogo()    \n",
    "            tela.blit(mensagem, (mensagem_rect))\n",
    "            pygame.display.update()\n",
    "    \n",
    "    #LIMITANDO O TAMANHO DA COBRA\n",
    "    if TAMANHO_COBRA_INICIAL < len(lista_corpo):\n",
    "        del lista_corpo[0]\n",
    "    \n",
    "    # ADICIONANDO COLISOES\n",
    "    if eu_b.colliderect(bo_b):\n",
    "        bot['x'], bot['y'] = randint(10, ALTURA), randint(10, LARGURA)\n",
    "        barulho_colisao.play()\n",
    "        pontos += 1\n",
    "        TAMANHO_COBRA_INICIAL += 5\n",
    "        \n",
    "    # FAZ A COBRA MUDAR DE POSICAO CASO ELA ULTRAPASSE O LIMITE\n",
    "    if eu['x'] >= LARGURA + 110:\n",
    "        eu['x'] = 0\n",
    "    if eu['x'] < 0:\n",
    "        eu['x'] = LARGURA + 110\n",
    "    if eu['y'] >= ALTURA:\n",
    "        eu['y'] = 0\n",
    "    if eu['y'] < 0:\n",
    "        eu['y'] = ALTURA\n",
    "    \n",
    "    pygame.display.update()"
   ]
  }
 ],
 "metadata": {
  "interpreter": {
   "hash": "84127f00867c89f50f040b4237f5babc55f36d7cedffdbe7e1439ff0c54507cf"
  },
  "kernelspec": {
   "display_name": "Python 3.9.5 64-bit ('pygame': virtualenv)",
   "name": "python3"
  },
  "language_info": {
   "codemirror_mode": {
    "name": "ipython",
    "version": 3
   },
   "file_extension": ".py",
   "mimetype": "text/x-python",
   "name": "python",
   "nbconvert_exporter": "python",
   "pygments_lexer": "ipython3",
   "version": "3.9.5"
  },
  "orig_nbformat": 4
 },
 "nbformat": 4,
 "nbformat_minor": 2
}
